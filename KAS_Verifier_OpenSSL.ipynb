{
 "cells": [
  {
   "cell_type": "markdown",
   "id": "cc61b2f3",
   "metadata": {},
   "source": [
    "# 🔍 KAS Verifier OpenSSL\n",
    "\n",
    "This notebook allows anyone to verify a digitally signed scientific document issued by the **Kapodistrian Academy of Science (KAS)**.\n",
    "\n",
    "You will need:\n",
    "- A signed `.pdf`\n",
    "- A `.sha256` file (the hash of the PDF)\n",
    "- A `.sig` file (the digital signature)\n",
    "- The official `public_key.pem` (provided in this repo)\n"
   ]
  },
  {
   "cell_type": "code",
   "execution_count": null,
   "id": "cfbf21c9",
   "metadata": {},
   "outputs": [],
   "source": [
    "# 📤 Upload required files\n",
    "from google.colab import files\n",
    "uploaded = files.upload()"
   ]
  },
  {
   "cell_type": "code",
   "execution_count": null,
   "id": "cfe29d48",
   "metadata": {},
   "outputs": [],
   "source": [
    "# 🔍 Detect files\n",
    "sha_file = next(f for f in uploaded if f.endswith('.sha256'))\n",
    "sig_file = next(f for f in uploaded if f.endswith('.sig'))\n",
    "key_file = next(f for f in uploaded if f.endswith('.pem'))"
   ]
  },
  {
   "cell_type": "code",
   "execution_count": null,
   "id": "61e1e64b",
   "metadata": {},
   "outputs": [],
   "source": [
    "# ✅ Verify the .sig file against the .sha256 using public key\n",
    "!openssl dgst -sha256 -verify {key_file} -signature {sig_file} {sha_file}"
   ]
  }
 ],
 "metadata": {},
 "nbformat": 4,
 "nbformat_minor": 5
}
