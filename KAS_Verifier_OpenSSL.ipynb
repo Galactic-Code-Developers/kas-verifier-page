{
 "cells": [
  {
   "cell_type": "markdown",
   "id": "c8fcc5da",
   "metadata": {},
   "source": [
    "\n",
    "# 🔍 KAS_Verifier_OpenSSL.ipynb\n",
    "\n",
    "This notebook allows anyone to verify a digitally signed scientific document issued by the **Kapodistrian Academy of Science (KAS)**.\n",
    "\n",
    "You will need:\n",
    "- A signed `.pdf`\n",
    "- A `.sha256` file (the hash of the PDF)\n",
    "- A `.sig` file (the digital signature)\n",
    "- The official `public_key.pem` (provided in this repo)\n"
   ]
  },
  {
   "cell_type": "code",
   "execution_count": null,
   "id": "6e31b72b",
   "metadata": {},
   "outputs": [],
   "source": [
    "\n",
    "# 📤 Upload required files\n",
    "from google.colab import files\n",
    "uploaded = files.upload()\n"
   ]
  },
  {
   "cell_type": "code",
   "execution_count": null,
   "id": "59e46e62",
   "metadata": {},
   "outputs": [],
   "source": [
    "\n",
    "# 🔍 Detect files\n",
    "sha_file = next(f for f in uploaded if f.endswith('.sha256'))\n",
    "sig_file = next(f for f in uploaded if f.endswith('.sig'))\n",
    "key_file = next(f for f in uploaded if f.endswith('.pem'))\n"
   ]
  },
  {
   "cell_type": "code",
   "execution_count": null,
   "id": "ae305377",
   "metadata": {},
   "outputs": [],
   "source": [
    "\n",
    "# ✅ Verify the .sig file against the .sha256 using public key\n",
    "!openssl dgst -sha256 -verify {key_file} -signature {sig_file} {sha_file}\n"
   ]
  }
 ],
 "metadata": {
  "kernelspec": {
   "display_name": "Python 3",
   "name": "python3"
  }
 },
 "nbformat": 4,
 "nbformat_minor": 5
}
