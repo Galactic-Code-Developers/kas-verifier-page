{
  "cells": [
    {
      "cell_type": "markdown",
      "metadata": {
        "id": "view-in-github",
        "colab_type": "text"
      },
      "source": [
        "<a href=\"https://colab.research.google.com/github/Galactic-Code-Developers/kas-verifier-page/blob/main/SHA256_Hash_Signer_(sig).ipynb\" target=\"_parent\"><img src=\"https://colab.research.google.com/assets/colab-badge.svg\" alt=\"Open In Colab\"/></a>"
      ]
    },
    {
      "cell_type": "markdown",
      "metadata": {
        "id": "X-W3QRQTELV_"
      },
      "source": [
        "# 🔏 SHA256 Hash Signer with RSA Private Key\n",
        "\n",
        "This Colab notebook allows you to sign a `.sha256` file using your RSA `private_key.pem`.\n",
        "It generates a `.sha256.sig` file, which can later be verified with a public key.\n",
        "\n",
        "**Requirements:**\n",
        "- A `.sha256` file (from your hashed PDF)\n",
        "- Your `private_key.pem` file (keep secure!)"
      ],
      "id": "X-W3QRQTELV_"
    },
    {
      "cell_type": "code",
      "metadata": {
        "id": "nyzeIbrwELWB"
      },
      "execution_count": null,
      "outputs": [],
      "source": [
        "# 📤 Upload your `.sha256` and `private_key.pem` files\n",
        "from google.colab import files\n",
        "uploaded = files.upload()"
      ],
      "id": "nyzeIbrwELWB"
    },
    {
      "cell_type": "code",
      "metadata": {
        "id": "_QDAMU3gELWC"
      },
      "execution_count": null,
      "outputs": [],
      "source": [
        "# ✅ List uploaded files and select target hash file\n",
        "import os\n",
        "\n",
        "sha_file = next((f for f in uploaded if f.endswith('.sha256')), None)\n",
        "key_file = next((f for f in uploaded if f.endswith('.pem')), None)\n",
        "\n",
        "if not sha_file or not key_file:\n",
        "    raise ValueError(\"You must upload both a .sha256 file and a private_key.pem file\")\n",
        "\n",
        "sig_file = sha_file + \".sig\"\n",
        "print(f\"Hash file: {sha_file}\\nPrivate key: {key_file}\\nOutput signature: {sig_file}\")"
      ],
      "id": "_QDAMU3gELWC"
    },
    {
      "cell_type": "code",
      "metadata": {
        "id": "_sdzBOuOELWC"
      },
      "execution_count": null,
      "outputs": [],
      "source": [
        "# 🔏 Sign the SHA256 hash file using OpenSSL\n",
        "!openssl dgst -sha256 -sign private_key.pem -out signature.sig $(ls *.sha256)"
      ],
      "id": "_sdzBOuOELWC"
    },
    {
      "cell_type": "code",
      "metadata": {
        "id": "9lONSaDaELWC"
      },
      "execution_count": null,
      "outputs": [],
      "source": [
        "# 📥 Download the .sig file\n",
        "files.download(\"signature.sig\")"
      ],
      "id": "9lONSaDaELWC"
    }
  ],
  "metadata": {
    "kernelspec": {
      "display_name": "Python 3",
      "name": "python3"
    },
    "language_info": {
      "name": "python"
    },
    "colab": {
      "provenance": [],
      "include_colab_link": true
    }
  },
  "nbformat": 4,
  "nbformat_minor": 5
}